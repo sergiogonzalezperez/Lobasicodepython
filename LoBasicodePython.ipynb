{
  "nbformat": 4,
  "nbformat_minor": 0,
  "metadata": {
    "colab": {
      "provenance": [],
      "authorship_tag": "ABX9TyN+UbwhNKjORTXPqRo2FA6r",
      "include_colab_link": true
    },
    "kernelspec": {
      "name": "python3",
      "display_name": "Python 3"
    },
    "language_info": {
      "name": "python"
    }
  },
  "cells": [
    {
      "cell_type": "markdown",
      "metadata": {
        "id": "view-in-github",
        "colab_type": "text"
      },
      "source": [
        "<a href=\"https://colab.research.google.com/github/sergiogonzalezperez/Lobasicodepython/blob/main/LoBasicodePython.ipynb\" target=\"_parent\"><img src=\"https://colab.research.google.com/assets/colab-badge.svg\" alt=\"Open In Colab\"/></a>"
      ]
    },
    {
      "cell_type": "code",
      "execution_count": null,
      "metadata": {
        "id": "Q2lQwxOIB8ja"
      },
      "outputs": [],
      "source": [
        "\n"
      ]
    },
    {
      "cell_type": "markdown",
      "source": [
        "Variables en Python"
      ],
      "metadata": {
        "id": "AbTFgB3tDD_n"
      }
    },
    {
      "cell_type": "code",
      "source": [
        "a=1\n",
        "b=23.5\n",
        "print(a)\n",
        "print(b)\n",
        "type(b)"
      ],
      "metadata": {
        "colab": {
          "base_uri": "https://localhost:8080/"
        },
        "id": "m2wzt2LgDE7_",
        "outputId": "05ed6b3d-1e05-4e7b-872f-78336fadb035"
      },
      "execution_count": null,
      "outputs": [
        {
          "output_type": "stream",
          "name": "stdout",
          "text": [
            "1\n",
            "23.5\n"
          ]
        },
        {
          "output_type": "execute_result",
          "data": {
            "text/plain": [
              "float"
            ]
          },
          "metadata": {},
          "execution_count": 1
        }
      ]
    },
    {
      "cell_type": "markdown",
      "source": [
        "Sentencia if else\n"
      ],
      "metadata": {
        "id": "MvC72NYvDNlp"
      }
    },
    {
      "cell_type": "code",
      "source": [
        "edad=int(input(\"Ingrese su edad:\"))\n",
        "if edad>12:\n",
        "  print(\"Puede Entrar\")\n",
        "else:\n",
        "    print (\"no puede entrar\")\n",
        "\n"
      ],
      "metadata": {
        "colab": {
          "base_uri": "https://localhost:8080/"
        },
        "id": "gpbSeqDEDRgu",
        "outputId": "87f33777-164f-4f4c-b758-37120ac53e77"
      },
      "execution_count": null,
      "outputs": [
        {
          "output_type": "stream",
          "name": "stdout",
          "text": [
            "Ingrese su edad:14\n",
            "Puede Entrar\n"
          ]
        }
      ]
    },
    {
      "cell_type": "markdown",
      "source": [
        "Ciclos For"
      ],
      "metadata": {
        "id": "_631WHUTDqwK"
      }
    },
    {
      "cell_type": "code",
      "source": [
        "letra='Sergio'\n",
        "for L in letra:\n",
        "  print(L)"
      ],
      "metadata": {
        "colab": {
          "base_uri": "https://localhost:8080/"
        },
        "id": "gN5gUsuQDuWS",
        "outputId": "6b0598a6-b8ae-40ed-f92a-f9663b49f9e6"
      },
      "execution_count": null,
      "outputs": [
        {
          "output_type": "stream",
          "name": "stdout",
          "text": [
            "S\n",
            "e\n",
            "r\n",
            "g\n",
            "i\n",
            "o\n"
          ]
        }
      ]
    },
    {
      "cell_type": "markdown",
      "source": [
        "Las Listas"
      ],
      "metadata": {
        "id": "7vS0AdxQF-ZY"
      }
    },
    {
      "cell_type": "code",
      "source": [
        "frutas=['manzana','pera','naranjas']\n",
        "for fruta in frutas:\n",
        "  print(fruta)\n",
        "\n"
      ],
      "metadata": {
        "colab": {
          "base_uri": "https://localhost:8080/"
        },
        "id": "ODsQF6B4GAS9",
        "outputId": "98939479-05f7-4dde-bf18-ce75cbc63fb0"
      },
      "execution_count": null,
      "outputs": [
        {
          "output_type": "stream",
          "name": "stdout",
          "text": [
            "manzana\n",
            "pera\n",
            "naranjas\n"
          ]
        }
      ]
    },
    {
      "cell_type": "code",
      "source": [],
      "metadata": {
        "id": "kimXPYL9GzGB"
      },
      "execution_count": null,
      "outputs": []
    },
    {
      "cell_type": "markdown",
      "source": [
        "Diccionarios"
      ],
      "metadata": {
        "id": "_v62KvzMD_hM"
      }
    },
    {
      "cell_type": "code",
      "source": [
        "Elmandado={\n",
        "    'edad':15,\n",
        "    'peso':63.5\n",
        "\n",
        "}\n",
        "Elmandado\n",
        "for clave,valor in Elmandado.items():\n",
        "  print(clave,valor)\n"
      ],
      "metadata": {
        "colab": {
          "base_uri": "https://localhost:8080/"
        },
        "id": "qxDQ_bGzECT3",
        "outputId": "13f048e0-0dd5-4a34-a936-54c5a869e878"
      },
      "execution_count": null,
      "outputs": [
        {
          "output_type": "stream",
          "name": "stdout",
          "text": [
            "edad 15\n",
            "peso 63.5\n"
          ]
        }
      ]
    },
    {
      "cell_type": "markdown",
      "source": [
        "Funciones"
      ],
      "metadata": {
        "id": "W35UyRTtETRm"
      }
    },
    {
      "cell_type": "code",
      "source": [
        "def hola():\n",
        "  print ('Sergio')\n",
        "def suma(a,b):\n",
        "  return  a+b\n",
        "hola()\n",
        "print(suma(3,5))"
      ],
      "metadata": {
        "colab": {
          "base_uri": "https://localhost:8080/"
        },
        "id": "5ATImHeIEVbQ",
        "outputId": "bfacef33-51b4-4f64-a85f-8c99945e6f50"
      },
      "execution_count": null,
      "outputs": [
        {
          "output_type": "stream",
          "name": "stdout",
          "text": [
            "Sergio\n",
            "8\n"
          ]
        }
      ]
    },
    {
      "cell_type": "markdown",
      "source": [
        "Programacion Orientada a Objetos"
      ],
      "metadata": {
        "id": "A-M8nWx7E1fq"
      }
    },
    {
      "cell_type": "code",
      "source": [
        "#clase persona\n",
        "class Persona:\n",
        "  #constructor self\n",
        "  def __init__(self,nom,edad):\n",
        "    self.nom=nom\n",
        "    self.edad=edad\n",
        "\n",
        "  def imprimir(self):\n",
        "    print(self.nom,self.edad)\n",
        "\n",
        "p1=Persona(\"Sergio\",47)\n",
        "print(p1.nom)\n",
        "print(p1.edad)\n",
        "\n",
        "\n"
      ],
      "metadata": {
        "colab": {
          "base_uri": "https://localhost:8080/"
        },
        "id": "ozNZspdeE89-",
        "outputId": "149f5058-e0c9-4086-a711-85309ab56102"
      },
      "execution_count": null,
      "outputs": [
        {
          "output_type": "stream",
          "name": "stdout",
          "text": [
            "Sergio\n",
            "47\n"
          ]
        }
      ]
    },
    {
      "cell_type": "markdown",
      "source": [],
      "metadata": {
        "id": "aiRUnwp8D1Yg"
      }
    }
  ]
}